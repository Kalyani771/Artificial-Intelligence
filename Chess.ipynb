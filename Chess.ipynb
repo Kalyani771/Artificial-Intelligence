{
 "cells": [
  {
   "cell_type": "code",
   "execution_count": null,
   "id": "66db1a37-95e2-4454-a7a5-7d0af13536b0",
   "metadata": {},
   "outputs": [
    {
     "name": "stdout",
     "output_type": "stream",
     "text": [
      "Defaulting to user installation because normal site-packages is not writeable\n",
      "\u001b[33mWARNING: Retrying (Retry(total=4, connect=None, read=None, redirect=None, status=None)) after connection broken by 'NewConnectionError('<pip._vendor.urllib3.connection.HTTPSConnection object at 0x70d56bfac4c0>: Failed to establish a new connection: [Errno 101] Network is unreachable')': /simple/python-chess/\u001b[0m\u001b[33m\n",
      "\u001b[0m\u001b[33mWARNING: Retrying (Retry(total=3, connect=None, read=None, redirect=None, status=None)) after connection broken by 'NewConnectionError('<pip._vendor.urllib3.connection.HTTPSConnection object at 0x70d56bfac7f0>: Failed to establish a new connection: [Errno 101] Network is unreachable')': /simple/python-chess/\u001b[0m\u001b[33m\n",
      "\u001b[0m\u001b[33mWARNING: Retrying (Retry(total=2, connect=None, read=None, redirect=None, status=None)) after connection broken by 'NewConnectionError('<pip._vendor.urllib3.connection.HTTPSConnection object at 0x70d56bfac9a0>: Failed to establish a new connection: [Errno 101] Network is unreachable')': /simple/python-chess/\u001b[0m\u001b[33m\n",
      "\u001b[0m"
     ]
    }
   ],
   "source": [
    "!pip install python-chess chess-board pygame"
   ]
  },
  {
   "cell_type": "code",
   "execution_count": null,
   "id": "e73c8d7e-6705-44cb-b280-f7ef0f41bd74",
   "metadata": {},
   "outputs": [],
   "source": [
    "import chess\n",
    "import pygame\n",
    "\n",
    "print(\"Libraries are working!\")\n"
   ]
  },
  {
   "cell_type": "code",
   "execution_count": null,
   "id": "d9134545-7e6d-4e3f-aa1a-ef99266f3d3b",
   "metadata": {},
   "outputs": [],
   "source": [
    "ping google.com\n"
   ]
  },
  {
   "cell_type": "code",
   "execution_count": null,
   "id": "2639245a-f3ac-4ff5-b9ba-9a741619b43f",
   "metadata": {},
   "outputs": [
    {
     "name": "stdout",
     "output_type": "stream",
     "text": [
      "Artificial Intelligence – Assignment 3\n",
      "Simple Chess AI\n",
      "You are playing as White (enter moves in UCI format, e.g., e2e4)\n"
     ]
    },
    {
     "name": "stdin",
     "output_type": "stream",
     "text": [
      "Enter your move (e.g., e2e4, g1f3, a7a8q) or 'quit':  e2e4\n"
     ]
    },
    {
     "name": "stdout",
     "output_type": "stream",
     "text": [
      "AI is thinking...\n",
      "AI thought for 0.88 seconds\n",
      "AI plays: e7e6\n"
     ]
    },
    {
     "name": "stdin",
     "output_type": "stream",
     "text": [
      "Enter your move (e.g., e2e4, g1f3, a7a8q) or 'quit':  d2d4\n"
     ]
    },
    {
     "name": "stdout",
     "output_type": "stream",
     "text": [
      "AI is thinking...\n",
      "AI thought for 2.29 seconds\n",
      "AI plays: d8h4\n"
     ]
    },
    {
     "name": "stdin",
     "output_type": "stream",
     "text": [
      "Enter your move (e.g., e2e4, g1f3, a7a8q) or 'quit':  d4d5\n"
     ]
    },
    {
     "name": "stdout",
     "output_type": "stream",
     "text": [
      "AI is thinking...\n",
      "AI thought for 3.04 seconds\n",
      "AI plays: h4e4\n"
     ]
    },
    {
     "name": "stdin",
     "output_type": "stream",
     "text": [
      "Enter your move (e.g., e2e4, g1f3, a7a8q) or 'quit':  d5e6\n"
     ]
    },
    {
     "name": "stdout",
     "output_type": "stream",
     "text": [
      "Invalid move! Try again.\n"
     ]
    },
    {
     "name": "stdin",
     "output_type": "stream",
     "text": [
      "Enter your move (e.g., e2e4, g1f3, a7a8q) or 'quit':  h2h3\n"
     ]
    },
    {
     "name": "stdout",
     "output_type": "stream",
     "text": [
      "Invalid move! Try again.\n"
     ]
    },
    {
     "name": "stdin",
     "output_type": "stream",
     "text": [
      "Enter your move (e.g., e2e4, g1f3, a7a8q) or 'quit':  a2a4\n"
     ]
    },
    {
     "name": "stdout",
     "output_type": "stream",
     "text": [
      "Invalid move! Try again.\n"
     ]
    },
    {
     "name": "stdin",
     "output_type": "stream",
     "text": [
      "Enter your move (e.g., e2e4, g1f3, a7a8q) or 'quit':  d5d6\n"
     ]
    },
    {
     "name": "stdout",
     "output_type": "stream",
     "text": [
      "Invalid move! Try again.\n"
     ]
    },
    {
     "name": "stdin",
     "output_type": "stream",
     "text": [
      "Enter your move (e.g., e2e4, g1f3, a7a8q) or 'quit':  f1e2\n"
     ]
    },
    {
     "name": "stdout",
     "output_type": "stream",
     "text": [
      "AI is thinking...\n",
      "AI thought for 3.89 seconds\n",
      "AI plays: f8b4\n"
     ]
    },
    {
     "name": "stdin",
     "output_type": "stream",
     "text": [
      "Enter your move (e.g., e2e4, g1f3, a7a8q) or 'quit':  b1d2\n"
     ]
    },
    {
     "name": "stdout",
     "output_type": "stream",
     "text": [
      "AI is thinking...\n",
      "AI thought for 2.79 seconds\n",
      "AI plays: e6d5\n"
     ]
    },
    {
     "name": "stdin",
     "output_type": "stream",
     "text": [
      "Enter your move (e.g., e2e4, g1f3, a7a8q) or 'quit':  d2e4\n"
     ]
    },
    {
     "name": "stdout",
     "output_type": "stream",
     "text": [
      "Invalid move! Try again.\n"
     ]
    }
   ],
   "source": [
    "import chess\n",
    "from chessboard import display\n",
    "import time\n",
    "\n",
    "class State:\n",
    "    def __init__(self, board=None, player=True):\n",
    "        if board is None:\n",
    "            self.board = chess.Board()\n",
    "        else:\n",
    "            self.board = board\n",
    "        self.player = player  # True = White's turn, False = Black's turn\n",
    "\n",
    "    def goalTest(self):\n",
    "        # Check if the game is over\n",
    "        if self.board.is_checkmate():\n",
    "            return not self.player  # The opponent just made a winning move\n",
    "        return None\n",
    "\n",
    "    def isTerminal(self):\n",
    "        return self.board.is_game_over()\n",
    "\n",
    "    def moveGen(self):\n",
    "        # Generate next states\n",
    "        children = []\n",
    "        for move in self.board.legal_moves:\n",
    "            new_board = self.board.copy()\n",
    "            new_board.push(move)\n",
    "            children.append(State(new_board, not self.player))\n",
    "        return children\n",
    "\n",
    "    def __str__(self):\n",
    "        return str(self.board)\n",
    "\n",
    "    def __eq__(self, other):\n",
    "        return self.board.fen() == other.board.fen() and self.player == other.player\n",
    "\n",
    "    def __hash__(self):\n",
    "        return hash((self.board.fen(), self.player))\n",
    "\n",
    "    def evaluate(self):\n",
    "        \n",
    "        if self.board.is_checkmate():\n",
    "            return -1000 if self.player else 1000  # Current player is mated\n",
    "        if self.board.is_stalemate() or self.board.is_insufficient_material() or self.board.can_claim_draw():\n",
    "            return 0\n",
    "        score = 0\n",
    "\n",
    "        piece_values = {\n",
    "            chess.PAWN: 1,\n",
    "            chess.KNIGHT: 3,\n",
    "            chess.BISHOP: 3,\n",
    "            chess.ROOK: 5,\n",
    "            chess.QUEEN: 9,\n",
    "            chess.KING: 0   \n",
    "        }\n",
    "\n",
    "        for sq, piece in self.board.piece_map().items():\n",
    "            value = piece_values.get(piece.piece_type, 0)\n",
    "            if piece.color == chess.WHITE:\n",
    "                score += value\n",
    "            else:\n",
    "                score -= value\n",
    "\n",
    "        center_squares = [chess.D4, chess.E4, chess.D5, chess.E5]\n",
    "        for sq in center_squares:\n",
    "            piece = self.board.piece_at(sq)\n",
    "            if piece:\n",
    "                if piece.color == chess.WHITE:\n",
    "                    score += 0.2\n",
    "                else:\n",
    "                    score -= 0.2\n",
    "\n",
    "        b = self.board.copy()\n",
    "\n",
    "        b.turn = chess.WHITE\n",
    "        white_moves = len(list(b.legal_moves))\n",
    "\n",
    "        b.turn = chess.BLACK\n",
    "        black_moves = len(list(b.legal_moves))\n",
    "\n",
    "        score += 0.05 * (white_moves - black_moves)\n",
    "\n",
    "        white_king = self.board.king(chess.WHITE)\n",
    "        black_king = self.board.king(chess.BLACK)\n",
    "\n",
    "        if white_king:\n",
    "            attackers = self.board.attackers(chess.BLACK, white_king)\n",
    "            if attackers:\n",
    "                score -= 0.5 * len(attackers)\n",
    "\n",
    "        if black_king:\n",
    "            attackers = self.board.attackers(chess.WHITE, black_king)\n",
    "            if attackers:\n",
    "                score += 0.5 * len(attackers)\n",
    "\n",
    "        return score\n",
    "\n",
    "\n",
    "\n",
    "\n",
    "def minimax(state, depth, alpha, beta, maximizingPlayer, maxDepth):\n",
    "    if state.isTerminal() or depth == maxDepth:\n",
    "        return state.evaluate(), None\n",
    "\n",
    "    best_move = None\n",
    "\n",
    "    if maximizingPlayer:  # MAX node (White)\n",
    "        maxEval = float('-inf')\n",
    "        for child in state.moveGen():\n",
    "            eval_score, _ = minimax(child, depth + 1, alpha, beta, False, maxDepth)\n",
    "\n",
    "            if eval_score > maxEval:\n",
    "                maxEval = eval_score\n",
    "                best_move = child.board.peek()  # Last move made\n",
    "\n",
    "            alpha = max(alpha, eval_score)\n",
    "            if alpha >= beta:\n",
    "                break  # Alpha-beta pruning\n",
    "\n",
    "        return maxEval, best_move\n",
    "\n",
    "    else:  # MIN node (Black)\n",
    "        minEval = float('inf')\n",
    "        for child in state.moveGen():\n",
    "            eval_score, _ = minimax(child, depth + 1, alpha, beta, True, maxDepth)\n",
    "\n",
    "            if eval_score < minEval:\n",
    "                minEval = eval_score\n",
    "                best_move = child.board.peek()\n",
    "\n",
    "            beta = min(beta, eval_score)\n",
    "            if alpha >= beta:\n",
    "                break\n",
    "\n",
    "        return minEval, best_move\n",
    "\n",
    "\n",
    "def play_game():\n",
    "    current_state = State(player=True)  # White starts\n",
    "    maxDepth = 3  # Try experimenting with the Search depth for more inteligent ai\n",
    "    game_board = display.start()  # Initialize the GUI\n",
    "\n",
    "    print(\"Artificial Intelligence – Assignment 3\")\n",
    "    print(\"Simple Chess AI\")\n",
    "    print(\"You are playing as White (enter moves in UCI format, e.g., e2e4)\")\n",
    "\n",
    "    while not current_state.isTerminal():\n",
    "        # Update the display\n",
    "        display.update(current_state.board.fen(), game_board)\n",
    "\n",
    "        # Check for quit event\n",
    "        if display.check_for_quit():\n",
    "            break\n",
    "\n",
    "        if current_state.player:  # Human move (White)\n",
    "            try:\n",
    "                move_uci = input(\"Enter your move (e.g., e2e4, g1f3, a7a8q) or 'quit': \")\n",
    "\n",
    "                if move_uci.lower() == 'quit':\n",
    "                    break\n",
    "\n",
    "                move = chess.Move.from_uci(move_uci)\n",
    "\n",
    "                if move in current_state.board.legal_moves:\n",
    "                    new_board = current_state.board.copy()\n",
    "                    new_board.push(move)\n",
    "                    current_state = State(new_board, False)\n",
    "                else:\n",
    "                    print(\"Invalid move! Try again.\")\n",
    "                    continue\n",
    "            except ValueError:\n",
    "                print(\"Invalid input format! Use UCI format like 'e2e4'.\")\n",
    "                continue\n",
    "        else:  # AI move (Black)\n",
    "            print(\"AI is thinking...\")\n",
    "            start_time = time.time()\n",
    "            eval_score, best_move = minimax(current_state, 0, float('-inf'), float('inf'), False, maxDepth)\n",
    "            end_time = time.time()\n",
    "\n",
    "            print(f\"AI thought for {end_time - start_time:.2f} seconds\")\n",
    "\n",
    "            if best_move:\n",
    "                new_board = current_state.board.copy()\n",
    "                new_board.push(best_move)\n",
    "                current_state = State(new_board, True)\n",
    "                print(f\"AI plays: {best_move.uci()}\")\n",
    "            else:\n",
    "                # Fallback\n",
    "                legal_moves = list(current_state.board.legal_moves)\n",
    "                if legal_moves:\n",
    "                    move = legal_moves[0]\n",
    "                    new_board = current_state.board.copy()\n",
    "                    new_board.push(move)\n",
    "                    current_state = State(new_board, True)\n",
    "                    print(f\"AI plays (fallback): {move.uci()}\")\n",
    "                else:\n",
    "                    break\n",
    "\n",
    "    # Game over\n",
    "    print(\"\\nGame over!\")\n",
    "    display.update(current_state.board.fen(), game_board)\n",
    "\n",
    "    if current_state.board.is_checkmate():\n",
    "        print(\"Checkmate! \" + (\"White\" if not current_state.player else \"Black\") + \" wins!\")\n",
    "    elif current_state.board.is_stalemate():\n",
    "        print(\"Stalemate! It's a draw.\")\n",
    "    elif current_state.board.is_insufficient_material():\n",
    "        print(\"Insufficient material! It's a draw.\")\n",
    "    elif current_state.board.can_claim_draw():\n",
    "        print(\"Draw by repetition or 50-move rule!\")\n",
    "\n",
    "    # Keep the window open for a moment\n",
    "    time.sleep(3)\n",
    "    display.terminate()\n",
    "\n",
    "\n",
    "if __name__ == \"__main__\":\n",
    "    play_game()"
   ]
  }
 ],
 "metadata": {
  "kernelspec": {
   "display_name": "Python 3 (ipykernel)",
   "language": "python",
   "name": "python3"
  },
  "language_info": {
   "codemirror_mode": {
    "name": "ipython",
    "version": 3
   },
   "file_extension": ".py",
   "mimetype": "text/x-python",
   "name": "python",
   "nbconvert_exporter": "python",
   "pygments_lexer": "ipython3",
   "version": "3.10.12"
  }
 },
 "nbformat": 4,
 "nbformat_minor": 5
}
